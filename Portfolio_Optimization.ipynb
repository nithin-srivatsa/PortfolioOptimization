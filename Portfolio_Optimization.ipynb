{
  "cells": [
    {
      "cell_type": "markdown",
      "metadata": {
        "id": "view-in-github",
        "colab_type": "text"
      },
      "source": [
        "<a href=\"https://colab.research.google.com/github/nithin-srivatsa/PortfolioOptimization/blob/main/Portfolio_Optimization.ipynb\" target=\"_parent\"><img src=\"https://colab.research.google.com/assets/colab-badge.svg\" alt=\"Open In Colab\"/></a>"
      ]
    },
    {
      "cell_type": "code",
      "execution_count": null,
      "id": "66b925d4-462d-46fb-a1bf-3707253bd14a",
      "metadata": {
        "id": "66b925d4-462d-46fb-a1bf-3707253bd14a"
      },
      "outputs": [],
      "source": [
        "# Import gurobi and numpy\n",
        "from gurobipy import *\n",
        "import numpy as np\n",
        "from numpy import genfromtxt\n",
        "import csv\n",
        "\n",
        "## Get index of 4 tickers\n",
        "tick4 = [\"MSFT\",\"GS\",\"PG\",\"SCHP\"];\n",
        "\n",
        "# Get variable names\n",
        "with open('Prices.csv') as csvFile:\n",
        "    reader = csv.reader(csvFile)\n",
        "    tickers = next(reader) ## stores the tickers of all 390 stocks\n",
        "\n",
        "tickind =[];\n",
        "for t in tick4:\n",
        "    tickind.append(tickers.index(t)) ## retrieve index that corresponds to each ticker\n",
        "\n",
        "# Load data\n",
        "prices = genfromtxt('Prices.csv', delimiter=',',skip_header = 1)\n",
        "\n",
        "# get dimensions of data\n",
        "d = prices.shape[0]\n",
        "n = prices.shape[1]\n",
        "\n",
        "# calculate monthly returns of each stock\n",
        "returns = np.zeros((d-1,n))\n",
        "for stock in range(n):\n",
        "    for month in range(d-1):\n",
        "        returns[month,stock] = prices[month+1,stock]/prices[month,stock]-1\n",
        "\n",
        "# Store average return (parameter r_i in portfolio optimization model)\n",
        "avg_return = np.zeros(n)\n",
        "avg_return = np.mean(returns,axis=0)\n",
        "\n",
        "# Store covariance matrix (parameter C_ij in portfolio optimization model)\n",
        "C = np.zeros((n,n))\n",
        "C = np.cov(np.transpose(returns))"
      ]
    },
    {
      "cell_type": "markdown",
      "id": "3793f689-95f3-453f-9d3b-55f9a28760e8",
      "metadata": {
        "id": "3793f689-95f3-453f-9d3b-55f9a28760e8"
      },
      "source": [
        "# Model 1"
      ]
    },
    {
      "cell_type": "code",
      "execution_count": null,
      "id": "1604df92-c040-4cb2-a3bb-0a2ac6a8c39e",
      "metadata": {
        "id": "1604df92-c040-4cb2-a3bb-0a2ac6a8c39e"
      },
      "outputs": [],
      "source": [
        "model = Model(\"PortfolioOptimization\")\n",
        "\n",
        "# Variable\n",
        "w = {i: model.addVar(lb=0.0, ub=1.0, name=f\"weight_{i}\") for i in tickind}"
      ]
    },
    {
      "cell_type": "code",
      "execution_count": null,
      "id": "be505271-fa4e-4d04-94c6-3e83e8536dc8",
      "metadata": {
        "id": "be505271-fa4e-4d04-94c6-3e83e8536dc8",
        "outputId": "3db3b220-0535-4378-91d7-1f396989f24e"
      },
      "outputs": [
        {
          "data": {
            "text/plain": [
              "<gurobi.Constr *Awaiting Model Update*>"
            ]
          },
          "execution_count": 60,
          "metadata": {},
          "output_type": "execute_result"
        }
      ],
      "source": [
        "# Constraint: The sum of weights must equal 1\n",
        "model.addConstr(sum(w[i] for i in tickind) == 1, name=\"Weights_Constraint\")"
      ]
    },
    {
      "cell_type": "code",
      "execution_count": null,
      "id": "ba8d8cd2-b0b2-462c-ac7a-f8cbc15de5c0",
      "metadata": {
        "id": "ba8d8cd2-b0b2-462c-ac7a-f8cbc15de5c0"
      },
      "outputs": [],
      "source": [
        "# Constraint: Each individual weight must be greater than or equal to 0\n",
        "for i in tickind:\n",
        "    model.addConstr(w[i] >= 0, name=f\"Non_negative_constraint_{i}\")"
      ]
    },
    {
      "cell_type": "code",
      "execution_count": null,
      "id": "b28fc1ab-113f-445d-a5a4-051c5b8031cc",
      "metadata": {
        "id": "b28fc1ab-113f-445d-a5a4-051c5b8031cc",
        "outputId": "9e65de0c-9c19-4e7c-eee0-159af76a5839"
      },
      "outputs": [
        {
          "data": {
            "text/plain": [
              "<gurobi.Constr *Awaiting Model Update*>"
            ]
          },
          "execution_count": 62,
          "metadata": {},
          "output_type": "execute_result"
        }
      ],
      "source": [
        "# Constraint: The sum of weighted returns must be greater than 0.005\n",
        "model.addConstr(sum(w[i] * avg_return[i] for i in tickind) >= 0.005, name=\"Sum_of_Weighted_Returns_Constraint\")"
      ]
    },
    {
      "cell_type": "code",
      "execution_count": null,
      "id": "1360df77-f5d5-458e-b91b-0b1f37d78911",
      "metadata": {
        "id": "1360df77-f5d5-458e-b91b-0b1f37d78911"
      },
      "outputs": [],
      "source": [
        "# Objective function: Minimize the portfolio variance\n",
        "portfolio_variance = sum(w[i] * w[j] * C[i, j] for i in tickind for j in tickind)\n",
        "model.setObjective(portfolio_variance, GRB.MINIMIZE)"
      ]
    },
    {
      "cell_type": "code",
      "execution_count": null,
      "id": "3a7db68d-9395-4fa5-a418-0d9ce6d2b622",
      "metadata": {
        "id": "3a7db68d-9395-4fa5-a418-0d9ce6d2b622",
        "outputId": "eccaa37f-b4d4-4481-e7e9-a60fca1639a1"
      },
      "outputs": [
        {
          "name": "stdout",
          "output_type": "stream",
          "text": [
            "Gurobi Optimizer version 11.0.0 build v11.0.0rc2 (mac64[arm] - Darwin 23.2.0 23C71)\n",
            "\n",
            "CPU model: Apple M2\n",
            "Thread count: 8 physical cores, 8 logical processors, using up to 8 threads\n",
            "\n",
            "Optimize a model with 6 rows, 4 columns and 12 nonzeros\n",
            "Model fingerprint: 0x3bac9f13\n",
            "Model has 10 quadratic objective terms\n",
            "Coefficient statistics:\n",
            "  Matrix range     [2e-04, 1e+00]\n",
            "  Objective range  [0e+00, 0e+00]\n",
            "  QObjective range [5e-05, 7e-03]\n",
            "  Bounds range     [1e+00, 1e+00]\n",
            "  RHS range        [5e-03, 1e+00]\n",
            "Presolve removed 4 rows and 0 columns\n",
            "Presolve time: 0.00s\n",
            "Presolved: 2 rows, 4 columns, 8 nonzeros\n",
            "Presolved model has 10 quadratic objective terms\n",
            "Ordering time: 0.00s\n",
            "\n",
            "Barrier statistics:\n",
            " Free vars  : 3\n",
            " AA' NZ     : 1.000e+01\n",
            " Factor NZ  : 1.500e+01\n",
            " Factor Ops : 5.500e+01 (less than 1 second per iteration)\n",
            " Threads    : 1\n",
            "\n",
            "                  Objective                Residual\n",
            "Iter       Primal          Dual         Primal    Dual     Compl     Time\n",
            "   0   2.93770406e+03 -2.93770406e+03  4.00e+03 5.11e-07  3.09e+05     0s\n",
            "   1   1.96068715e+01 -2.83755129e+01  1.60e+02 2.04e-08  1.26e+04     0s\n",
            "   2   2.15057184e-03 -9.50151933e+00  1.60e-04 2.01e-14  6.76e+01     0s\n",
            "   3   2.14988538e-03 -1.14147561e-02  6.84e-08 1.78e-17  9.65e-02     0s\n",
            "   4   1.78359197e-03 -1.59293872e-03  1.39e-08 1.32e-17  2.40e-02     0s\n",
            "   5   1.91017839e-04 -2.16505681e-03  4.37e-13 2.01e-17  1.68e-02     0s\n",
            "   6   1.86814424e-04  1.72418396e-04  2.22e-16 6.33e-17  1.02e-04     0s\n",
            "   7   1.77834291e-04  1.77355693e-04  1.11e-15 4.01e-18  3.40e-06     0s\n",
            "   8   1.77493639e-04  1.77492970e-04  9.33e-15 7.24e-18  4.76e-09     0s\n",
            "\n",
            "Barrier solved model in 8 iterations and 0.01 seconds (0.00 work units)\n",
            "Optimal objective 1.77493639e-04\n",
            "\n"
          ]
        }
      ],
      "source": [
        "# Solve the model\n",
        "model.update()\n",
        "model.optimize()"
      ]
    },
    {
      "cell_type": "code",
      "execution_count": null,
      "id": "d294eba4-a687-405f-932c-21c860e06a13",
      "metadata": {
        "id": "d294eba4-a687-405f-932c-21c860e06a13",
        "outputId": "1a6075f9-c303-4d61-9da8-5e13f416c35c"
      },
      "outputs": [
        {
          "name": "stdout",
          "output_type": "stream",
          "text": [
            "MSFT: 23.712%\n",
            "GS: 2.586%\n",
            "PG: 0.0%\n",
            "SCHP: 73.702%\n",
            "Total Portfolio Risk: 0.00017749363882836112\n"
          ]
        }
      ],
      "source": [
        "# Access the solution\n",
        "if model.status == GRB.OPTIMAL:\n",
        "    for i in tickind:\n",
        "        print(f\"{tickers[i]}: {round(w[i].x * 100, 3)}%\")\n",
        "    print(f\"Total Portfolio Risk: {model.objVal}\")"
      ]
    },
    {
      "cell_type": "markdown",
      "id": "b186ce27-0536-4255-999d-7b360f006454",
      "metadata": {
        "id": "b186ce27-0536-4255-999d-7b360f006454"
      },
      "source": [
        "# Model 2"
      ]
    },
    {
      "cell_type": "code",
      "execution_count": null,
      "id": "aea0dc92-caf6-41b4-a743-63c90317a125",
      "metadata": {
        "id": "aea0dc92-caf6-41b4-a743-63c90317a125"
      },
      "outputs": [],
      "source": [
        "model_allstocks = Model(\"PortfolioOptimizationAcrossAllStocks\")\n",
        "\n",
        "# Collect indexes of all tickers in portfolio\n",
        "tickind2 =[];\n",
        "for t in tickers:\n",
        "    tickind2.append(tickers.index(t))\n",
        "\n",
        "w2 = {i: model_allstocks.addVar(lb=0.0, ub=1.0, name=f\"weight_{i}\") for i in tickind2}"
      ]
    },
    {
      "cell_type": "code",
      "execution_count": null,
      "id": "bdf99e4d-d008-40d8-8243-eb20b7605d83",
      "metadata": {
        "id": "bdf99e4d-d008-40d8-8243-eb20b7605d83",
        "outputId": "58a0d9f6-f108-4a4f-e190-9d10e67a2e62"
      },
      "outputs": [
        {
          "data": {
            "text/plain": [
              "<gurobi.Constr *Awaiting Model Update*>"
            ]
          },
          "execution_count": 48,
          "metadata": {},
          "output_type": "execute_result"
        }
      ],
      "source": [
        "# Constraint: The sum of weights must equal 1\n",
        "model_allstocks.addConstr(sum(w2[i] for i in tickind2) == 1, name=\"Weights_Constraint\")"
      ]
    },
    {
      "cell_type": "code",
      "execution_count": null,
      "id": "6098ca7b-e81a-4ebe-99c9-29d6db374267",
      "metadata": {
        "id": "6098ca7b-e81a-4ebe-99c9-29d6db374267"
      },
      "outputs": [],
      "source": [
        "# Constraint: Each individual weight must be greater than or equal to 0\n",
        "for i in tickind2:\n",
        "    model_allstocks.addConstr(w2[i] >= 0, name=f\"Non_negative_constraint_{i}\")"
      ]
    },
    {
      "cell_type": "code",
      "execution_count": null,
      "id": "4551e507-a312-4b4c-b6ab-cd6ba6227326",
      "metadata": {
        "id": "4551e507-a312-4b4c-b6ab-cd6ba6227326",
        "outputId": "d19acddd-280a-45a7-b94a-f909aeff3919"
      },
      "outputs": [
        {
          "data": {
            "text/plain": [
              "<gurobi.Constr *Awaiting Model Update*>"
            ]
          },
          "execution_count": 50,
          "metadata": {},
          "output_type": "execute_result"
        }
      ],
      "source": [
        "# Constraint: The sum of weighted returns must equal 1\n",
        "model_allstocks.addConstr(sum(w2[i] * avg_return[i] for i in tickind2) >= 0.005, name=\"Sum_of_Weighted_Returns_Constraint\")"
      ]
    },
    {
      "cell_type": "code",
      "execution_count": null,
      "id": "74141523-1096-482d-a6da-28d42d61a25f",
      "metadata": {
        "id": "74141523-1096-482d-a6da-28d42d61a25f"
      },
      "outputs": [],
      "source": [
        "# Objective function: Minimize the portfolio variance\n",
        "portfolio_variance_allstocks = sum(w2[i] * w2[j] * C[i, j] for i in tickind2 for j in tickind2)\n",
        "model_allstocks.setObjective(portfolio_variance_allstocks, GRB.MINIMIZE)"
      ]
    },
    {
      "cell_type": "code",
      "execution_count": null,
      "id": "2edcf22e-1c6d-416c-88de-cca6fcab9e71",
      "metadata": {
        "id": "2edcf22e-1c6d-416c-88de-cca6fcab9e71",
        "outputId": "772d3f04-e907-4a80-b37d-272d4bb61bea"
      },
      "outputs": [
        {
          "name": "stdout",
          "output_type": "stream",
          "text": [
            "Gurobi Optimizer version 11.0.0 build v11.0.0rc2 (mac64[arm] - Darwin 23.2.0 23C71)\n",
            "\n",
            "CPU model: Apple M2\n",
            "Thread count: 8 physical cores, 8 logical processors, using up to 8 threads\n",
            "\n",
            "Optimize a model with 392 rows, 390 columns and 1170 nonzeros\n",
            "Model fingerprint: 0x275c503d\n",
            "Model has 76245 quadratic objective terms\n",
            "Coefficient statistics:\n",
            "  Matrix range     [1e-06, 1e+00]\n",
            "  Objective range  [0e+00, 0e+00]\n",
            "  QObjective range [2e-07, 8e-02]\n",
            "  Bounds range     [1e+00, 1e+00]\n",
            "  RHS range        [5e-03, 1e+00]\n",
            "Presolve removed 390 rows and 0 columns\n",
            "Presolve time: 0.02s\n",
            "Presolved: 2 rows, 390 columns, 780 nonzeros\n",
            "Presolved model has 76245 quadratic objective terms\n",
            "Ordering time: 0.00s\n",
            "\n",
            "Barrier statistics:\n",
            " Free vars  : 59\n",
            " AA' NZ     : 1.830e+03\n",
            " Factor NZ  : 1.891e+03\n",
            " Factor Ops : 7.753e+04 (less than 1 second per iteration)\n",
            " Threads    : 8\n",
            "\n",
            "                  Objective                Residual\n",
            "Iter       Primal          Dual         Primal    Dual     Compl     Time\n",
            "   0   1.10520633e-17 -1.10520633e-17  3.90e+05 1.86e-08  2.51e+05     0s\n",
            "   1   4.87301803e+01 -5.26091371e+01  1.21e+04 5.75e-10  7.77e+03     0s\n",
            "   2   1.99897341e+00 -6.01886633e+00  1.38e+02 6.56e-12  9.01e+01     0s\n",
            "   3   1.21830291e-03 -3.99936825e+00  1.38e-04 8.11e-16  6.56e-01     0s\n",
            "   4   1.21661602e-03 -6.24066921e-03  1.18e-07 1.71e-17  1.22e-03     0s\n",
            "   5   7.33993189e-04 -9.81305934e-04  1.64e-08 1.07e-17  2.81e-04     0s\n",
            "   6   3.29537321e-04 -4.86629440e-04  1.64e-14 1.94e-16  1.34e-04     0s\n",
            "   7   1.37557155e-04 -9.40662181e-05  8.88e-16 1.39e-16  3.80e-05     0s\n",
            "   8   6.13997710e-05 -4.60288140e-07  5.01e-14 3.47e-17  1.01e-05     0s\n",
            "   9   4.43900503e-05  2.05510304e-05  1.11e-14 2.78e-17  3.91e-06     0s\n",
            "  10   3.47508965e-05  2.64474505e-05  9.77e-15 1.39e-17  1.36e-06     0s\n",
            "  11   3.02519428e-05  2.84349305e-05  1.47e-14 2.08e-17  2.98e-07     0s\n",
            "  12   2.89491841e-05  2.87556677e-05  4.21e-14 1.99e-17  3.17e-08     0s\n",
            "  13   2.87923964e-05  2.87838506e-05  2.81e-14 2.08e-17  1.40e-09     0s\n",
            "  14   2.87850384e-05  2.87849855e-05  1.26e-13 1.39e-17  8.66e-12     0s\n",
            "\n",
            "Barrier solved model in 14 iterations and 0.05 seconds (0.01 work units)\n",
            "Optimal objective 2.87850384e-05\n",
            "\n"
          ]
        }
      ],
      "source": [
        "# Solve the model\n",
        "model_allstocks.update()\n",
        "model_allstocks.optimize()"
      ]
    },
    {
      "cell_type": "code",
      "execution_count": null,
      "id": "2f3be8bb-ea54-4616-b3e5-9b727b651738",
      "metadata": {
        "id": "2f3be8bb-ea54-4616-b3e5-9b727b651738",
        "outputId": "e6609a52-24b3-4ceb-b203-ba990b76c0cb"
      },
      "outputs": [
        {
          "name": "stdout",
          "output_type": "stream",
          "text": [
            "ABBV: 1.135%\n",
            "ABMD: 0.667%\n",
            "ATVI: 1.369%\n",
            "ANET: 1.175%\n",
            "AIZ: 2.223%\n",
            "ATO: 2.917%\n",
            "BBY: 0.26%\n",
            "CME: 1.275%\n",
            "ED: 0.018%\n",
            "DRI: 0.669%\n",
            "RE: 0.235%\n",
            "GWW: 0.777%\n",
            "HAS: 0.246%\n",
            "HCA: 2.955%\n",
            "HUM: 2.267%\n",
            "INFO: 5.173%\n",
            "ICE: 1.418%\n",
            "KEYS: 2.217%\n",
            "LHX: 0.0%\n",
            "LLY: 0.852%\n",
            "LMT: 0.066%\n",
            "PSX: 0.799%\n",
            "PNC: 3.229%\n",
            "BND: 68.056%\n",
            "Total Portfolio Risk: 2.878503835027502e-05\n"
          ]
        }
      ],
      "source": [
        "tolerance = 1e-6  # Adjust the tolerance level as needed\n",
        "\n",
        "# Access the solution\n",
        "if model_allstocks.status == GRB.OPTIMAL:\n",
        "    for i in tickind2:\n",
        "        if w2[i].x > tolerance:\n",
        "            print(f\"{tickers[i]}: {round(w2[i].x * 100, 3)}%\")\n",
        "    print(f\"Total Portfolio Risk: {model_allstocks.objVal}\")"
      ]
    },
    {
      "cell_type": "markdown",
      "id": "f9ae1db9-527a-4b0e-81cc-6544086dc976",
      "metadata": {
        "id": "f9ae1db9-527a-4b0e-81cc-6544086dc976"
      },
      "source": [
        "# Model 3"
      ]
    },
    {
      "cell_type": "code",
      "execution_count": null,
      "id": "34ccc404",
      "metadata": {
        "id": "34ccc404",
        "outputId": "45871373-8e14-4a1e-9afc-e72bf58d9676"
      },
      "outputs": [
        {
          "name": "stdout",
          "output_type": "stream",
          "text": [
            "Gurobi Optimizer version 11.0.0 build v11.0.0rc2 (mac64[arm] - Darwin 23.2.0 23C71)\n",
            "\n",
            "CPU model: Apple M2\n",
            "Thread count: 8 physical cores, 8 logical processors, using up to 8 threads\n",
            "\n",
            "Optimize a model with 783 rows, 780 columns and 2340 nonzeros\n",
            "Model fingerprint: 0x3907714c\n",
            "Model has 76245 quadratic objective terms\n",
            "Variable types: 390 continuous, 390 integer (390 binary)\n",
            "Coefficient statistics:\n",
            "  Matrix range     [1e-06, 1e+00]\n",
            "  Objective range  [0e+00, 0e+00]\n",
            "  QObjective range [2e-07, 8e-02]\n",
            "  Bounds range     [1e+00, 1e+00]\n",
            "  RHS range        [5e-03, 4e+00]\n",
            "Found heuristic solution: objective 0.0136011\n",
            "Presolve removed 390 rows and 0 columns\n",
            "Presolve time: 0.02s\n",
            "Presolved: 393 rows, 780 columns, 1950 nonzeros\n",
            "Presolved model has 76245 quadratic objective terms\n",
            "Variable types: 390 continuous, 390 integer (390 binary)\n",
            "\n",
            "Root relaxation: objective 2.878501e-05, 129 iterations, 0.00 seconds (0.01 work units)\n",
            "\n",
            "    Nodes    |    Current Node    |     Objective Bounds      |     Work\n",
            " Expl Unexpl |  Obj  Depth IntInf | Incumbent    BestBd   Gap | It/Node Time\n",
            "\n",
            "     0     0    0.00003    0   21    0.01360    0.00003   100%     -    0s\n",
            "H    0     0                       0.0001377    0.00003  79.1%     -    0s\n",
            "H    0     0                       0.0001357    0.00003  78.8%     -    0s\n",
            "     0     0    0.00003    0   21    0.00014    0.00003  78.8%     -    0s\n",
            "H    0     0                       0.0000744    0.00003  61.3%     -    0s\n",
            "H    0     0                       0.0000723    0.00003  58.1%     -    0s\n",
            "     0     0    0.00003    0   21    0.00007    0.00003  58.1%     -    0s\n",
            "     0     0    0.00003    0   21    0.00007    0.00003  58.1%     -    0s\n",
            "     0     0    0.00003    0   21    0.00007    0.00003  57.5%     -    0s\n",
            "     0     2    0.00003    0   21    0.00007    0.00003  57.5%     -    0s\n",
            "H  475   330                       0.0000676    0.00003  51.1%  49.9    1s\n",
            "H 3349  1311                       0.0000675    0.00004  37.2%  51.6    3s\n",
            "  3655  1447    0.00005   33   24    0.00007    0.00004  37.2%  48.7    5s\n",
            "  7812  1980    0.00006   26   15    0.00007    0.00004  33.9%  53.0   10s\n",
            " 13627  3059    0.00006   27   16    0.00007    0.00005  21.9%  54.9   15s\n",
            " 18896  2951     cutoff   41         0.00007    0.00006  14.7%  57.1   20s\n",
            " 23324  2210    0.00007   42   22    0.00007    0.00006  9.73%  61.6   25s\n",
            " 26457  1416     cutoff   38         0.00007    0.00006  6.46%  69.9   30s\n",
            " 29151   439    0.00007   68   17    0.00007    0.00007  3.57%  76.8   35s\n",
            "\n",
            "Explored 30583 nodes (2424865 simplex iterations) in 36.24 seconds (36.46 work units)\n",
            "Thread count was 8 (of 8 available processors)\n",
            "\n",
            "Solution count 7: 6.75347e-05 6.75857e-05 7.23026e-05 ... 0.0136011\n",
            "\n",
            "Optimal solution found (tolerance 1.00e-04)\n",
            "Best objective 6.753470760728e-05, best bound 6.753470760728e-05, gap 0.0000%\n"
          ]
        }
      ],
      "source": [
        "#MODEL 3:\n",
        "\n",
        "dict3 = {}\n",
        "for i,n in enumerate(tickers):\n",
        "    dict3[i] = i\n",
        "\n",
        "\n",
        "# Define model and parameters.\n",
        "mod3 = Model()\n",
        "\n",
        "# Define decision variables\n",
        "# w_i is the weight on asset i\n",
        "w = mod3.addVars(len(dict3))\n",
        "x = mod3.addVars(len(dict3), vtype = GRB.BINARY)\n",
        "\n",
        "# Writing expected return should atleast be 0.5\n",
        "mod3.addConstr(sum(w[i]*avg_return[dict3[i]] for i in range(len(dict3))) >= 0.005)\n",
        "\n",
        "# Total weight constraint should be equal to 1\n",
        "mod3.addConstr(sum(w[i] for i in range(len(dict3))) == 1)\n",
        "\n",
        "# Non negativity\n",
        "for i in range(len(dict3)):\n",
        "    mod3.addConstr(w[i] >= 0)\n",
        "\n",
        "# x and w relation\n",
        "for i in range(len(dict3)):\n",
        "    mod3.addConstr(w[i] <= x[i])\n",
        "\n",
        "# Total sum should be less than 4\n",
        "mod3.addConstr(sum(x[i] for i in range(len(dict3))) <= 4)\n",
        "\n",
        "\n",
        "# Create the objective function, and set it to be maximized.\n",
        "mod3.setObjective(sum(sum(w[i]*w[j]*C[dict3[i],dict3[j]] for i in range(len(dict3))) for j in range(len(dict3))), GRB.MINIMIZE)\n",
        "\n",
        "mod3.update()\n",
        "\n",
        "mod3.optimize()"
      ]
    },
    {
      "cell_type": "code",
      "execution_count": null,
      "id": "6efdec6a",
      "metadata": {
        "id": "6efdec6a",
        "outputId": "00482281-eb76-47be-fc7b-0550fbc26abf"
      },
      "outputs": [
        {
          "name": "stdout",
          "output_type": "stream",
          "text": [
            "Asset Allocations:\n",
            "Asset: CME, Weight: 12.64%\n",
            "Asset: LLY, Weight: 7.55%\n",
            "Asset: NVDA, Weight: 4.38%\n",
            "Asset: BND, Weight: 75.44%\n",
            "\n",
            "Total Expected Return: 0.50%\n",
            "Total Variance of the Portfolio: 6.753470760728118e-05\n"
          ]
        }
      ],
      "source": [
        "# Check if the optimization was successful\n",
        "if mod3.status == GRB.OPTIMAL:\n",
        "    # Display the asset allocation\n",
        "    print(\"Asset Allocations:\")\n",
        "    for i in range(len(dict3)):\n",
        "        if x[i].x > 0.5:  # if the asset is included in the portfolio\n",
        "            ticker = tickers[i]\n",
        "            weight = w[i].x\n",
        "            print(f\"Asset: {ticker}, Weight: {weight:.2%}\")\n",
        "\n",
        "    # Display the total expected return\n",
        "    total_return = sum(w[i].x * avg_return[dict3[i]] for i in range(len(dict3)))\n",
        "    print(f\"\\nTotal Expected Return: {total_return:.2%}\")\n",
        "    total_variance = sum(sum(w[i].x * w[j].x * C[dict3[i], dict3[j]] for i in range(len(dict3))) for j in range(len(dict3)))\n",
        "\n",
        "    # Display the total variance\n",
        "    print(f\"Total Variance of the Portfolio: {total_variance}\")\n",
        "\n",
        "else:\n",
        "    print(\"No optimal solution was found.\")"
      ]
    },
    {
      "cell_type": "markdown",
      "id": "2e349154-c43f-4fea-bf26-ec758fd0c21d",
      "metadata": {
        "id": "2e349154-c43f-4fea-bf26-ec758fd0c21d"
      },
      "source": [
        "## Inference 1"
      ]
    },
    {
      "cell_type": "markdown",
      "id": "79b93081-b348-48a5-97f3-7011c7af0b29",
      "metadata": {
        "id": "79b93081-b348-48a5-97f3-7011c7af0b29"
      },
      "source": [
        "**A. For Model 1, this is the optimal risk (i.e. the optimal objective function value), solver time, and the weight on each of the four stocks.**"
      ]
    },
    {
      "cell_type": "code",
      "execution_count": null,
      "id": "98baaea3-0875-4b9a-9894-df6a03bda47e",
      "metadata": {
        "id": "98baaea3-0875-4b9a-9894-df6a03bda47e",
        "outputId": "4a181536-7095-461f-b7bd-1ce17a1ae567"
      },
      "outputs": [
        {
          "name": "stdout",
          "output_type": "stream",
          "text": [
            "Solver time for model 1 is 0.014339 seconds\n",
            "The weight of each of the four stocks is -\n",
            "MSFT: 23.712%\n",
            "GS: 2.586%\n",
            "PG: 0.0%\n",
            "SCHP: 73.702%\n",
            "Total Portfolio Variance: 0.0177%\n"
          ]
        }
      ],
      "source": [
        "print(\"Solver time for model 1 is %f\" % model.Runtime, \"seconds\")\n",
        "print(\"The weight of each of the four stocks is -\")\n",
        "if model.status == GRB.OPTIMAL:\n",
        "    for i in tickind:\n",
        "        print(f\"{tickers[i]}: {round(w[i].x * 100, 3)}%\")\n",
        "    print(f\"Total Portfolio Variance: {round(model.objVal*100,4)}%\")"
      ]
    },
    {
      "cell_type": "markdown",
      "id": "a0c289fc-9717-461d-a930-0f1b031b196a",
      "metadata": {
        "id": "a0c289fc-9717-461d-a930-0f1b031b196a"
      },
      "source": [
        "**B. For Model 2, this is the optimal risk and solver time.**"
      ]
    },
    {
      "cell_type": "code",
      "execution_count": null,
      "id": "a898046d-f576-492d-9a57-a67221dbd44c",
      "metadata": {
        "id": "a898046d-f576-492d-9a57-a67221dbd44c",
        "outputId": "27ed37cf-c3ef-4007-f482-60ab884b7916"
      },
      "outputs": [
        {
          "name": "stdout",
          "output_type": "stream",
          "text": [
            "Solver time for model 2 is 0.051196 seconds\n",
            "Total Portfolio Variance: 0.0029%\n"
          ]
        }
      ],
      "source": [
        "print(\"Solver time for model 2 is %f\" % model_allstocks.Runtime, \"seconds\")\n",
        "print(f\"Total Portfolio Variance: {round(model_allstocks.objVal*100,4)}%\")"
      ]
    },
    {
      "cell_type": "markdown",
      "id": "bcde03ba-183d-4543-b885-769724e96699",
      "metadata": {
        "id": "bcde03ba-183d-4543-b885-769724e96699"
      },
      "source": [
        "**C. For Model 3, this is the optimal risk, solver time, and the ticker and weight on each of the\n",
        "four stocks selected by the model**"
      ]
    },
    {
      "cell_type": "code",
      "execution_count": null,
      "id": "7c060dee-d28e-4b18-8e94-6c7963953790",
      "metadata": {
        "id": "7c060dee-d28e-4b18-8e94-6c7963953790",
        "outputId": "b78b7b9f-5fc6-4618-a827-f5fa4ba7a260"
      },
      "outputs": [
        {
          "name": "stdout",
          "output_type": "stream",
          "text": [
            "CME: 12.641%\n",
            "LLY: 7.548%\n",
            "NVDA: 4.375%\n",
            "BND: 75.436%\n",
            "Total Portfolio Variance: 0.0068%\n"
          ]
        }
      ],
      "source": [
        "# Check if the optimization was successful\n",
        "if mod3.status == GRB.OPTIMAL:\n",
        "    # Iterate over the indices of tickers\n",
        "    for i in tickind2:\n",
        "        # Check if the binary variable x[i] is set to 1\n",
        "        if x[i].x == 1:\n",
        "            # Print the selected tickers and their weights\n",
        "            print(f\"{tickers[i]}: {round(w[i].x * 100, 3)}%\")\n",
        "\n",
        "    # Print the total portfolio variance\n",
        "    print(f\"Total Portfolio Variance: {round(mod3.objVal*100, 4)}%\")"
      ]
    },
    {
      "cell_type": "markdown",
      "id": "75ca962e-4f24-4647-bce9-c7b9fc57d1fe",
      "metadata": {
        "id": "75ca962e-4f24-4647-bce9-c7b9fc57d1fe"
      },
      "source": [
        "### Model 1 vs Model 2\n",
        "* **Model 2 has lower optimal risk** - Model 2 has a risk of 0.0029% as compared to Model 1, which has the risk of 0.0177%\n",
        "* **Model 2 is more diversified** - With the increase in number of avaiable stocks from 4 to 390, the porfolio became more diversified. This diversification helps reduce risk as we can now choose stocks (more than 4) which are relatively less correlated and whose combination provides us with a sufficient return. This reduces the volatility in stocks, therefore having lower variance/risk"
      ]
    },
    {
      "cell_type": "markdown",
      "id": "544e0adf-f827-4c64-9fdb-3c60f918a91b",
      "metadata": {
        "id": "544e0adf-f827-4c64-9fdb-3c60f918a91b"
      },
      "source": [
        "### Model 2 vs Model 3\n",
        "* **Model 2 has lower optimal risk** - Model 2 has a risk of 0.0029% as comparedto Model 1, which has the risk of 0.0068%\n",
        "* **Model 3 is less diversified** - Model 3 can hold a portfolio of 1,2,3 or 4 stocks at best as compare to Model 2 which has 390 stocks at its disposal to create an optimal portfolio. The freedom to create a porfolio of more diverse assets (with a combination of more stocks that have lower correlation) is likely the reason for Model 2 outperforming Model 3 in risk."
      ]
    },
    {
      "cell_type": "markdown",
      "id": "9fd601b7",
      "metadata": {
        "id": "9fd601b7"
      },
      "source": [
        "## Model 3 with Time Limit"
      ]
    },
    {
      "cell_type": "code",
      "execution_count": null,
      "id": "cbc8ca2e",
      "metadata": {
        "id": "cbc8ca2e",
        "outputId": "daac59b1-144c-423c-87eb-c25989d733d6"
      },
      "outputs": [
        {
          "name": "stdout",
          "output_type": "stream",
          "text": [
            "Optimal risk for model is 0.000068\n",
            "Solver time for model is 45.107383\n"
          ]
        }
      ],
      "source": [
        "\n",
        "#MODEL 3 OUTPUT:\n",
        "\n",
        "print(\"Optimal risk for model is %f\" % mod3.ObjVal)\n",
        "print(\"Solver time for model is %f\" % mod3.Runtime)"
      ]
    },
    {
      "cell_type": "code",
      "execution_count": null,
      "id": "85c5e9f7",
      "metadata": {
        "id": "85c5e9f7",
        "outputId": "b53ee3a9-72fa-4dc0-d3a7-a9044be112c5"
      },
      "outputs": [
        {
          "name": "stdout",
          "output_type": "stream",
          "text": [
            "Set parameter TimeLimit to value 3\n",
            "Gurobi Optimizer version 11.0.0 build v11.0.0rc2 (mac64[arm] - Darwin 23.2.0 23C71)\n",
            "\n",
            "CPU model: Apple M2\n",
            "Thread count: 8 physical cores, 8 logical processors, using up to 8 threads\n",
            "\n",
            "Optimize a model with 783 rows, 780 columns and 2340 nonzeros\n",
            "Model fingerprint: 0x3907714c\n",
            "Model has 76245 quadratic objective terms\n",
            "Variable types: 390 continuous, 390 integer (390 binary)\n",
            "Coefficient statistics:\n",
            "  Matrix range     [1e-06, 1e+00]\n",
            "  Objective range  [0e+00, 0e+00]\n",
            "  QObjective range [2e-07, 8e-02]\n",
            "  Bounds range     [1e+00, 1e+00]\n",
            "  RHS range        [5e-03, 4e+00]\n",
            "Found heuristic solution: objective 0.0136011\n",
            "Presolve removed 390 rows and 0 columns\n",
            "Presolve time: 0.02s\n",
            "Presolved: 393 rows, 780 columns, 1950 nonzeros\n",
            "Presolved model has 76245 quadratic objective terms\n",
            "Variable types: 390 continuous, 390 integer (390 binary)\n",
            "\n",
            "Root relaxation: objective 2.878501e-05, 129 iterations, 0.00 seconds (0.01 work units)\n",
            "\n",
            "    Nodes    |    Current Node    |     Objective Bounds      |     Work\n",
            " Expl Unexpl |  Obj  Depth IntInf | Incumbent    BestBd   Gap | It/Node Time\n",
            "\n",
            "     0     0    0.00003    0   21    0.01360    0.00003   100%     -    0s\n",
            "H    0     0                       0.0001377    0.00003  79.1%     -    0s\n",
            "H    0     0                       0.0001357    0.00003  78.8%     -    0s\n",
            "     0     0    0.00003    0   21    0.00014    0.00003  78.8%     -    0s\n",
            "H    0     0                       0.0000744    0.00003  61.3%     -    0s\n",
            "H    0     0                       0.0000723    0.00003  58.1%     -    0s\n",
            "     0     0    0.00003    0   21    0.00007    0.00003  58.1%     -    0s\n",
            "     0     0    0.00003    0   21    0.00007    0.00003  58.1%     -    0s\n",
            "     0     0    0.00003    0   21    0.00007    0.00003  57.5%     -    0s\n",
            "     0     2    0.00003    0   21    0.00007    0.00003  57.5%     -    0s\n",
            "H  475   330                       0.0000676    0.00003  51.1%  49.9    1s\n",
            "\n",
            "Cutting planes:\n",
            "  Cover: 1\n",
            "  Implied bound: 13\n",
            "  MIR: 2\n",
            "  Flow cover: 4\n",
            "\n",
            "Explored 2297 nodes (107179 simplex iterations) in 3.01 seconds (2.70 work units)\n",
            "Thread count was 8 (of 8 available processors)\n",
            "\n",
            "Solution count 6: 6.75857e-05 7.23026e-05 7.44346e-05 ... 0.0136011\n",
            "\n",
            "Time limit reached\n",
            "Best objective 6.758574167459e-05, best bound 3.993724129673e-05, gap 40.9088%\n"
          ]
        }
      ],
      "source": [
        "#REDEFINING THE MODEL 3 WITH TIME LIMIT\n",
        "\n",
        "# Define model and parameters.\n",
        "mod4 = Model()\n",
        "mod4.Params.TimeLimit = 3.00\n",
        "\n",
        "# Define decision variables\n",
        "# w_i is the weight on asset i\n",
        "w = mod4.addVars(len(dict3))\n",
        "x = mod4.addVars(len(dict3), vtype = GRB.BINARY)\n",
        "\n",
        "# Writing expected return should atleast be 0.5\n",
        "mod4.addConstr(sum(w[i]*avg_return[dict3[i]] for i in range(len(dict3))) >= 0.005)\n",
        "\n",
        "# Total weight constraint should be equal to 1\n",
        "mod4.addConstr(sum(w[i] for i in range(len(dict3))) == 1)\n",
        "\n",
        "# Non negativity\n",
        "for i in range(len(dict3)):\n",
        "    mod4.addConstr(w[i] >= 0)\n",
        "\n",
        "# x and w relation\n",
        "for i in range(len(dict3)):\n",
        "    mod4.addConstr(w[i] <= x[i])\n",
        "\n",
        "# Total sum should be less than 4\n",
        "mod4.addConstr(sum(x[i] for i in range(len(dict3))) <= 4)\n",
        "\n",
        "\n",
        "# Create the objective function, and set it to be maximized.\n",
        "mod4.setObjective(sum(sum(w[i]*w[j]*C[dict3[i],dict3[j]] for i in range(len(dict3))) for j in range(len(dict3))), GRB.MINIMIZE)\n",
        "\n",
        "mod4.update()\n",
        "\n",
        "mod4.optimize()"
      ]
    },
    {
      "cell_type": "code",
      "execution_count": null,
      "id": "52244c21",
      "metadata": {
        "id": "52244c21",
        "outputId": "513046ea-1188-432e-c06d-b473238418cc"
      },
      "outputs": [
        {
          "name": "stdout",
          "output_type": "stream",
          "text": [
            "Optimal risk  for model is 0.000068\n",
            "Solver time for model is 3.014579\n"
          ]
        }
      ],
      "source": [
        "print(\"Optimal risk  for model is %f\" % mod4.ObjVal)\n",
        "print(\"Solver time for model is %f\" % mod4.Runtime)"
      ]
    },
    {
      "cell_type": "markdown",
      "id": "ba166362",
      "metadata": {
        "id": "ba166362"
      },
      "source": [
        "Solver time for the updated model 3 is 3 seconds, which is much less than the previous model 3 that took 45 seconds but the optimal risk is still the same value when looked at as a whole number. Perhaps it implies that for this solution, there is diminishing , negligible returns beyond solving at a certain point, because there is actually a tiny difference between the two values. Overall, the result is slightly worse for the 3 second model since it was cut off.\n",
        "\n",
        "Optimal model: **Best objective 6.75347e-05**\n",
        "\n",
        "3 Second model: **Best objective 6.758574167459e-05**\n",
        "\n",
        "If we observe Gurobi Output, we see that the solution for Optimal Model was found on Solution 7, whereas for the 3 second Model, it was found on Solution 6. So it took considerably longer for the final solution, which changed the result very very marginally. This could be seen as the utility of setting the right cut-off point for a model."
      ]
    },
    {
      "cell_type": "code",
      "execution_count": null,
      "id": "aa5cd0f4",
      "metadata": {
        "id": "aa5cd0f4",
        "outputId": "a1143447-430a-4f32-ca9c-576aee94368a"
      },
      "outputs": [
        {
          "name": "stdout",
          "output_type": "stream",
          "text": [
            "Set parameter MIPGap to value 0.1\n",
            "Gurobi Optimizer version 11.0.0 build v11.0.0rc2 (mac64[arm] - Darwin 23.2.0 23C71)\n",
            "\n",
            "CPU model: Apple M2\n",
            "Thread count: 8 physical cores, 8 logical processors, using up to 8 threads\n",
            "\n",
            "Optimize a model with 783 rows, 780 columns and 2340 nonzeros\n",
            "Model fingerprint: 0x3907714c\n",
            "Model has 76245 quadratic objective terms\n",
            "Variable types: 390 continuous, 390 integer (390 binary)\n",
            "Coefficient statistics:\n",
            "  Matrix range     [1e-06, 1e+00]\n",
            "  Objective range  [0e+00, 0e+00]\n",
            "  QObjective range [2e-07, 8e-02]\n",
            "  Bounds range     [1e+00, 1e+00]\n",
            "  RHS range        [5e-03, 4e+00]\n",
            "Found heuristic solution: objective 0.0136011\n",
            "Presolve removed 390 rows and 0 columns\n",
            "Presolve time: 0.03s\n",
            "Presolved: 393 rows, 780 columns, 1950 nonzeros\n",
            "Presolved model has 76245 quadratic objective terms\n",
            "Variable types: 390 continuous, 390 integer (390 binary)\n",
            "\n",
            "Root relaxation: objective 2.878501e-05, 129 iterations, 0.01 seconds (0.01 work units)\n",
            "\n",
            "    Nodes    |    Current Node    |     Objective Bounds      |     Work\n",
            " Expl Unexpl |  Obj  Depth IntInf | Incumbent    BestBd   Gap | It/Node Time\n",
            "\n",
            "     0     0    0.00003    0   21    0.01360    0.00003   100%     -    0s\n",
            "H    0     0                       0.0001377    0.00003  79.1%     -    0s\n",
            "H    0     0                       0.0001357    0.00003  78.8%     -    0s\n",
            "     0     0    0.00003    0   21    0.00014    0.00003  78.8%     -    0s\n",
            "H    0     0                       0.0000744    0.00003  61.3%     -    0s\n",
            "H    0     0                       0.0000723    0.00003  57.0%     -    0s\n",
            "     0     0    0.00003    0   21    0.00007    0.00003  57.0%     -    0s\n",
            "     0     0    0.00003    0   21    0.00007    0.00003  57.0%     -    0s\n",
            "     0     0    0.00003    0   21    0.00007    0.00003  56.1%     -    0s\n",
            "     0     2    0.00003    0   21    0.00007    0.00003  56.1%     -    0s\n",
            "H  826   526                       0.0000707    0.00003  53.2%  54.6    1s\n",
            "H  834   487                       0.0000676    0.00003  51.1%  54.3    1s\n",
            "H 2401  1087                       0.0000675    0.00004  45.3%  54.7    3s\n",
            "  3249  1392    0.00007   57   20    0.00007    0.00004  45.3%  49.3    5s\n",
            "  6680  1899     cutoff   28         0.00007    0.00004  33.7%  56.2   10s\n",
            " 12212  2863     cutoff   26         0.00007    0.00005  22.7%  57.2   15s\n",
            " 16963  2883     cutoff   35         0.00007    0.00006  15.9%  60.7   20s\n",
            " 21329  2311     cutoff   56         0.00007    0.00006  10.1%  65.6   25s\n",
            "\n",
            "Explored 21931 nodes (1464261 simplex iterations) in 25.07 seconds (23.84 work units)\n",
            "Thread count was 8 (of 8 available processors)\n",
            "\n",
            "Solution count 8: 6.75347e-05 6.75857e-05 7.06604e-05 ... 0.0136011\n",
            "\n",
            "Optimal solution found (tolerance 1.00e-01)\n",
            "Best objective 6.753470760728e-05, best bound 6.114269814352e-05, gap 9.4648%\n"
          ]
        }
      ],
      "source": [
        "## #3B UPDATED UPGRADED MODEL 3\n",
        "\n",
        "# Define model and parameters.\n",
        "mod5 = Model()\n",
        "mod5.Params.MIPGap = 0.1\n",
        "\n",
        "# Define decision variables\n",
        "# w_i is the weight on asset i\n",
        "w = mod5.addVars(len(dict3))\n",
        "x = mod5.addVars(len(dict3), vtype = GRB.BINARY)\n",
        "\n",
        "# Writing expected return should atleast be 0.5\n",
        "mod5.addConstr(sum(w[i]*avg_return[dict3[i]] for i in range(len(dict3))) >= 0.005)\n",
        "\n",
        "# Total weight constraint should be equal to 1\n",
        "mod5.addConstr(sum(w[i] for i in range(len(dict3))) == 1)\n",
        "\n",
        "# Non negativity\n",
        "for i in range(len(dict3)):\n",
        "    mod5.addConstr(w[i] >= 0)\n",
        "\n",
        "# x and w relation\n",
        "for i in range(len(dict3)):\n",
        "    mod5.addConstr(w[i] <= x[i])\n",
        "\n",
        "# Total sum should be less than 4\n",
        "mod5.addConstr(sum(x[i] for i in range(len(dict3))) <= 4)\n",
        "\n",
        "\n",
        "# Create the objective function, and set it to be maximized.\n",
        "mod5.setObjective(sum(sum(w[i]*w[j]*C[dict3[i],dict3[j]] for i in range(len(dict3))) for j in range(len(dict3))), GRB.MINIMIZE)\n",
        "\n",
        "mod5.update()\n",
        "\n",
        "mod5.optimize()"
      ]
    },
    {
      "cell_type": "code",
      "execution_count": null,
      "id": "3347a8ee",
      "metadata": {
        "id": "3347a8ee",
        "outputId": "ad48b2ca-55af-4e88-aa1e-d68f5eb468a7"
      },
      "outputs": [
        {
          "name": "stdout",
          "output_type": "stream",
          "text": [
            "Optimal risk for model is 0.000068\n",
            "Solver time for model is 25.075235\n"
          ]
        }
      ],
      "source": [
        "print(\"Optimal risk for model is %f\" % mod5.ObjVal)\n",
        "print(\"Solver time for model is %f\" % mod5.Runtime)"
      ]
    },
    {
      "cell_type": "markdown",
      "id": "f8fc9734",
      "metadata": {
        "id": "f8fc9734"
      },
      "source": [
        "Solver time for the updated model 3 is 25.33, but still manages to get close to a very similar optimal risk.\n",
        "\n",
        "This might indicate that for this problem, there is no major difference between an optimality gap of 10%, versus 0%.\n",
        "\n",
        "However, the overall in this case is still slightly higher than the optimal risk when the program is allowed to run without restrictions. The amount of change though, is negligible. The best bound, however is slightly better for the Optimal Model.\n",
        "\n",
        "\n",
        "10% Gap Model: 6.753470760728e-05, best bound 6.114269814352e-05\n",
        "\n",
        "\n",
        "Optimal model: 6.753470760728e-05, best bound 6.753470760728e-05\n",
        "\n",
        "Overall, this exercise higlights the advantages of using an optimality gap or a time cut off. It may be beneficial in certain cases to get close, but not waste further computational resources in finding \"THE\" optimal solution.\n"
      ]
    },
    {
      "cell_type": "code",
      "execution_count": null,
      "id": "621b1614",
      "metadata": {
        "id": "621b1614"
      },
      "outputs": [],
      "source": []
    }
  ],
  "metadata": {
    "kernelspec": {
      "display_name": "Python 3 (ipykernel)",
      "language": "python",
      "name": "python3"
    },
    "language_info": {
      "codemirror_mode": {
        "name": "ipython",
        "version": 3
      },
      "file_extension": ".py",
      "mimetype": "text/x-python",
      "name": "python",
      "nbconvert_exporter": "python",
      "pygments_lexer": "ipython3",
      "version": "3.11.5"
    },
    "colab": {
      "provenance": [],
      "include_colab_link": true
    }
  },
  "nbformat": 4,
  "nbformat_minor": 5
}